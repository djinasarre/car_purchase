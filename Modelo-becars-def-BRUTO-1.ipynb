{
 "cells": [
  {
   "cell_type": "code",
   "execution_count": 58,
   "metadata": {},
   "outputs": [],
   "source": [
    "#In this notebook we try to practice all the classification algorithms that we learned in this course.\n",
    "\n",
    "#We load a dataset using Pandas library, and apply the following algorithms, and find the best one for this specific dataset by accuracy evaluation methods.\n",
    "\n",
    "#Lets first load required libraries:\n",
    "\n",
    "\n",
    "import itertools\n",
    "import numpy as np\n",
    "import matplotlib.pyplot as plt\n",
    "from matplotlib.ticker import NullFormatter\n",
    "import pandas as pd\n",
    "import numpy as np\n",
    "import matplotlib.ticker as ticker\n",
    "from sklearn import preprocessing\n",
    "%matplotlib inline"
   ]
  },
  {
   "cell_type": "code",
   "execution_count": 59,
   "metadata": {},
   "outputs": [
    {
     "data": {
      "text/html": [
       "<div>\n",
       "<style scoped>\n",
       "    .dataframe tbody tr th:only-of-type {\n",
       "        vertical-align: middle;\n",
       "    }\n",
       "\n",
       "    .dataframe tbody tr th {\n",
       "        vertical-align: top;\n",
       "    }\n",
       "\n",
       "    .dataframe thead th {\n",
       "        text-align: right;\n",
       "    }\n",
       "</style>\n",
       "<table border=\"1\" class=\"dataframe\">\n",
       "  <thead>\n",
       "    <tr style=\"text-align: right;\">\n",
       "      <th></th>\n",
       "      <th>MARCA MODELO</th>\n",
       "      <th>MOTOR</th>\n",
       "      <th>CAMBIO</th>\n",
       "      <th>CV</th>\n",
       "      <th>COMBUSTIBLE</th>\n",
       "      <th>COLOR</th>\n",
       "      <th>PROVEEDOR</th>\n",
       "      <th>YEARS</th>\n",
       "      <th>PLAZAS</th>\n",
       "      <th>PCC</th>\n",
       "      <th>...</th>\n",
       "      <th>edad</th>\n",
       "      <th>mes</th>\n",
       "      <th>year</th>\n",
       "      <th>CTE.GARANTÍA</th>\n",
       "      <th>CTE..PREPARACIÓN</th>\n",
       "      <th>CTE.TOTAL</th>\n",
       "      <th>BF.NETO</th>\n",
       "      <th>GARANTIA</th>\n",
       "      <th>MESES</th>\n",
       "      <th>GARANTIA2</th>\n",
       "    </tr>\n",
       "  </thead>\n",
       "  <tbody>\n",
       "    <tr>\n",
       "      <th>0</th>\n",
       "      <td>RENAULT MEGANE</td>\n",
       "      <td>1.6</td>\n",
       "      <td>MANUAL</td>\n",
       "      <td>75</td>\n",
       "      <td>GASOLINA</td>\n",
       "      <td>NaN</td>\n",
       "      <td>G.COSTA</td>\n",
       "      <td>10</td>\n",
       "      <td>NaN</td>\n",
       "      <td>956.6</td>\n",
       "      <td>...</td>\n",
       "      <td>NaN</td>\n",
       "      <td>1</td>\n",
       "      <td>2008</td>\n",
       "      <td>NaN</td>\n",
       "      <td>NaN</td>\n",
       "      <td>NaN</td>\n",
       "      <td>NaN</td>\n",
       "      <td>NaN</td>\n",
       "      <td>NaN</td>\n",
       "      <td>NaN</td>\n",
       "    </tr>\n",
       "    <tr>\n",
       "      <th>1</th>\n",
       "      <td>VOLVO S60</td>\n",
       "      <td>2.5</td>\n",
       "      <td>MANUAL</td>\n",
       "      <td>145</td>\n",
       "      <td>GASOLINA</td>\n",
       "      <td>NaN</td>\n",
       "      <td>PARTICULAR</td>\n",
       "      <td>7</td>\n",
       "      <td>NaN</td>\n",
       "      <td>7900.0</td>\n",
       "      <td>...</td>\n",
       "      <td>NaN</td>\n",
       "      <td>2</td>\n",
       "      <td>2008</td>\n",
       "      <td>NaN</td>\n",
       "      <td>NaN</td>\n",
       "      <td>NaN</td>\n",
       "      <td>NaN</td>\n",
       "      <td>NaN</td>\n",
       "      <td>NaN</td>\n",
       "      <td>NaN</td>\n",
       "    </tr>\n",
       "    <tr>\n",
       "      <th>2</th>\n",
       "      <td>VOLKSWAGEN PASSAT</td>\n",
       "      <td>1.9</td>\n",
       "      <td>MANUAL</td>\n",
       "      <td>130</td>\n",
       "      <td>DIESEL</td>\n",
       "      <td>NaN</td>\n",
       "      <td>LEASEPLAN</td>\n",
       "      <td>5</td>\n",
       "      <td>NaN</td>\n",
       "      <td>11200.0</td>\n",
       "      <td>...</td>\n",
       "      <td>NaN</td>\n",
       "      <td>2</td>\n",
       "      <td>2008</td>\n",
       "      <td>NaN</td>\n",
       "      <td>NaN</td>\n",
       "      <td>NaN</td>\n",
       "      <td>NaN</td>\n",
       "      <td>NaN</td>\n",
       "      <td>NaN</td>\n",
       "      <td>NaN</td>\n",
       "    </tr>\n",
       "    <tr>\n",
       "      <th>3</th>\n",
       "      <td>SEAT TOLEDO</td>\n",
       "      <td>1.9</td>\n",
       "      <td>MANUAL</td>\n",
       "      <td>110</td>\n",
       "      <td>DIESEL</td>\n",
       "      <td>NaN</td>\n",
       "      <td>LEASEPLAN</td>\n",
       "      <td>5</td>\n",
       "      <td>NaN</td>\n",
       "      <td>7300.0</td>\n",
       "      <td>...</td>\n",
       "      <td>NaN</td>\n",
       "      <td>3</td>\n",
       "      <td>2008</td>\n",
       "      <td>NaN</td>\n",
       "      <td>NaN</td>\n",
       "      <td>NaN</td>\n",
       "      <td>NaN</td>\n",
       "      <td>NaN</td>\n",
       "      <td>NaN</td>\n",
       "      <td>NaN</td>\n",
       "    </tr>\n",
       "    <tr>\n",
       "      <th>4</th>\n",
       "      <td>SKODA OCTAVIA</td>\n",
       "      <td>1.9</td>\n",
       "      <td>MANUAL</td>\n",
       "      <td>105</td>\n",
       "      <td>DIESEL</td>\n",
       "      <td>NaN</td>\n",
       "      <td>LEASEPLAN</td>\n",
       "      <td>3</td>\n",
       "      <td>NaN</td>\n",
       "      <td>10000.0</td>\n",
       "      <td>...</td>\n",
       "      <td>NaN</td>\n",
       "      <td>3</td>\n",
       "      <td>2008</td>\n",
       "      <td>NaN</td>\n",
       "      <td>NaN</td>\n",
       "      <td>NaN</td>\n",
       "      <td>NaN</td>\n",
       "      <td>NaN</td>\n",
       "      <td>NaN</td>\n",
       "      <td>NaN</td>\n",
       "    </tr>\n",
       "  </tbody>\n",
       "</table>\n",
       "<p>5 rows × 34 columns</p>\n",
       "</div>"
      ],
      "text/plain": [
       "        MARCA MODELO  MOTOR  CAMBIO   CV COMBUSTIBLE COLOR   PROVEEDOR  YEARS  \\\n",
       "0     RENAULT MEGANE    1.6  MANUAL   75    GASOLINA   NaN     G.COSTA     10   \n",
       "1          VOLVO S60    2.5  MANUAL  145    GASOLINA   NaN  PARTICULAR      7   \n",
       "2  VOLKSWAGEN PASSAT    1.9  MANUAL  130      DIESEL   NaN   LEASEPLAN      5   \n",
       "3        SEAT TOLEDO    1.9  MANUAL  110      DIESEL   NaN   LEASEPLAN      5   \n",
       "4      SKODA OCTAVIA    1.9  MANUAL  105      DIESEL   NaN   LEASEPLAN      3   \n",
       "\n",
       "   PLAZAS      PCC  ...  edad  mes  year  CTE.GARANTÍA  CTE..PREPARACIÓN  \\\n",
       "0     NaN    956.6  ...   NaN    1  2008           NaN               NaN   \n",
       "1     NaN   7900.0  ...   NaN    2  2008           NaN               NaN   \n",
       "2     NaN  11200.0  ...   NaN    2  2008           NaN               NaN   \n",
       "3     NaN   7300.0  ...   NaN    3  2008           NaN               NaN   \n",
       "4     NaN  10000.0  ...   NaN    3  2008           NaN               NaN   \n",
       "\n",
       "   CTE.TOTAL BF.NETO GARANTIA  MESES GARANTIA2  \n",
       "0        NaN     NaN      NaN    NaN       NaN  \n",
       "1        NaN     NaN      NaN    NaN       NaN  \n",
       "2        NaN     NaN      NaN    NaN       NaN  \n",
       "3        NaN     NaN      NaN    NaN       NaN  \n",
       "4        NaN     NaN      NaN    NaN       NaN  \n",
       "\n",
       "[5 rows x 34 columns]"
      ]
     },
     "execution_count": 59,
     "metadata": {},
     "output_type": "execute_result"
    }
   ],
   "source": [
    "\n",
    "#Load Data From CSV File\n",
    "#Let's load the dataset [NB Need to provide link to csv file]\n",
    "\n",
    "\n",
    "df = pd.read_excel('path_to_file\\VENDIDOS1MESHISTORICOml2.xlsx')\n",
    "\n",
    "df.head()\n"
   ]
  },
  {
   "cell_type": "code",
   "execution_count": 60,
   "metadata": {},
   "outputs": [
    {
     "data": {
      "text/plain": [
       "(381, 34)"
      ]
     },
     "execution_count": 60,
     "metadata": {},
     "output_type": "execute_result"
    }
   ],
   "source": [
    "\n",
    "df.shape"
   ]
  },
  {
   "cell_type": "code",
   "execution_count": 61,
   "metadata": {},
   "outputs": [
    {
     "data": {
      "text/plain": [
       "(16, 34)"
      ]
     },
     "execution_count": 61,
     "metadata": {},
     "output_type": "execute_result"
    }
   ],
   "source": [
    "# We wan to know of total GARANTIA 2 which are good or MESES with value to 1\n",
    "df[(df.GARANTIA==2) & (df.MESES==1.0)].shape"
   ]
  },
  {
   "cell_type": "code",
   "execution_count": 62,
   "metadata": {},
   "outputs": [
    {
     "data": {
      "text/plain": [
       "(31, 34)"
      ]
     },
     "execution_count": 62,
     "metadata": {},
     "output_type": "execute_result"
    }
   ],
   "source": [
    "df3=df[(df.GARANTIA==2)]\n",
    "df3.shape\n"
   ]
  },
  {
   "cell_type": "code",
   "execution_count": 64,
   "metadata": {},
   "outputs": [
    {
     "data": {
      "text/plain": [
       "0.47058823529411764"
      ]
     },
     "execution_count": 64,
     "metadata": {},
     "output_type": "execute_result"
    }
   ],
   "source": [
    "Accuracygarangtia2=16/34\n",
    "\n",
    "\n",
    "Accuracygarangtia2"
   ]
  },
  {
   "cell_type": "code",
   "execution_count": 65,
   "metadata": {},
   "outputs": [],
   "source": [
    "\n",
    "#Use one hot encoding technique to conver categorical varables to binary variables and append them to the feature Data Frame\n",
    "df.drop(['GARANTIA','BF.NETO','CTE.TOTAL','CTE.GARANTÍA','edad','sexo','nacionalidad','pais','provincia','localidad','C.P','C AUTO1','NETO','mes'], axis = 'columns', inplace=True)\n"
   ]
  },
  {
   "cell_type": "code",
   "execution_count": 66,
   "metadata": {},
   "outputs": [
    {
     "data": {
      "text/html": [
       "<div>\n",
       "<style scoped>\n",
       "    .dataframe tbody tr th:only-of-type {\n",
       "        vertical-align: middle;\n",
       "    }\n",
       "\n",
       "    .dataframe tbody tr th {\n",
       "        vertical-align: top;\n",
       "    }\n",
       "\n",
       "    .dataframe thead th {\n",
       "        text-align: right;\n",
       "    }\n",
       "</style>\n",
       "<table border=\"1\" class=\"dataframe\">\n",
       "  <thead>\n",
       "    <tr style=\"text-align: right;\">\n",
       "      <th></th>\n",
       "      <th>MARCA MODELO</th>\n",
       "      <th>MOTOR</th>\n",
       "      <th>CAMBIO</th>\n",
       "      <th>CV</th>\n",
       "      <th>COMBUSTIBLE</th>\n",
       "      <th>COLOR</th>\n",
       "      <th>PROVEEDOR</th>\n",
       "      <th>YEARS</th>\n",
       "      <th>PLAZAS</th>\n",
       "      <th>PCC</th>\n",
       "      <th>PCOMPRA</th>\n",
       "      <th>PVENTA</th>\n",
       "      <th>BRUTO</th>\n",
       "      <th>KM</th>\n",
       "      <th>tipo</th>\n",
       "      <th>llantas</th>\n",
       "      <th>year</th>\n",
       "      <th>CTE..PREPARACIÓN</th>\n",
       "      <th>MESES</th>\n",
       "      <th>GARANTIA2</th>\n",
       "    </tr>\n",
       "  </thead>\n",
       "  <tbody>\n",
       "    <tr>\n",
       "      <th>0</th>\n",
       "      <td>RENAULT MEGANE</td>\n",
       "      <td>1.6</td>\n",
       "      <td>MANUAL</td>\n",
       "      <td>75</td>\n",
       "      <td>GASOLINA</td>\n",
       "      <td>NaN</td>\n",
       "      <td>G.COSTA</td>\n",
       "      <td>10</td>\n",
       "      <td>NaN</td>\n",
       "      <td>956.6</td>\n",
       "      <td>956.6</td>\n",
       "      <td>4500</td>\n",
       "      <td>3543.4</td>\n",
       "      <td>109988</td>\n",
       "      <td>med</td>\n",
       "      <td>si</td>\n",
       "      <td>2008</td>\n",
       "      <td>NaN</td>\n",
       "      <td>NaN</td>\n",
       "      <td>NaN</td>\n",
       "    </tr>\n",
       "    <tr>\n",
       "      <th>1</th>\n",
       "      <td>VOLVO S60</td>\n",
       "      <td>2.5</td>\n",
       "      <td>MANUAL</td>\n",
       "      <td>145</td>\n",
       "      <td>GASOLINA</td>\n",
       "      <td>NaN</td>\n",
       "      <td>PARTICULAR</td>\n",
       "      <td>7</td>\n",
       "      <td>NaN</td>\n",
       "      <td>7900.0</td>\n",
       "      <td>7900.0</td>\n",
       "      <td>10500</td>\n",
       "      <td>2600.0</td>\n",
       "      <td>185390</td>\n",
       "      <td>gra</td>\n",
       "      <td>si</td>\n",
       "      <td>2008</td>\n",
       "      <td>NaN</td>\n",
       "      <td>NaN</td>\n",
       "      <td>NaN</td>\n",
       "    </tr>\n",
       "    <tr>\n",
       "      <th>2</th>\n",
       "      <td>VOLKSWAGEN PASSAT</td>\n",
       "      <td>1.9</td>\n",
       "      <td>MANUAL</td>\n",
       "      <td>130</td>\n",
       "      <td>DIESEL</td>\n",
       "      <td>NaN</td>\n",
       "      <td>LEASEPLAN</td>\n",
       "      <td>5</td>\n",
       "      <td>NaN</td>\n",
       "      <td>11200.0</td>\n",
       "      <td>11200.0</td>\n",
       "      <td>15750</td>\n",
       "      <td>4550.0</td>\n",
       "      <td>73790</td>\n",
       "      <td>gra</td>\n",
       "      <td>si</td>\n",
       "      <td>2008</td>\n",
       "      <td>NaN</td>\n",
       "      <td>NaN</td>\n",
       "      <td>NaN</td>\n",
       "    </tr>\n",
       "    <tr>\n",
       "      <th>3</th>\n",
       "      <td>SEAT TOLEDO</td>\n",
       "      <td>1.9</td>\n",
       "      <td>MANUAL</td>\n",
       "      <td>110</td>\n",
       "      <td>DIESEL</td>\n",
       "      <td>NaN</td>\n",
       "      <td>LEASEPLAN</td>\n",
       "      <td>5</td>\n",
       "      <td>NaN</td>\n",
       "      <td>7300.0</td>\n",
       "      <td>7300.0</td>\n",
       "      <td>9900</td>\n",
       "      <td>2600.0</td>\n",
       "      <td>97257</td>\n",
       "      <td>gra</td>\n",
       "      <td>si</td>\n",
       "      <td>2008</td>\n",
       "      <td>NaN</td>\n",
       "      <td>NaN</td>\n",
       "      <td>NaN</td>\n",
       "    </tr>\n",
       "    <tr>\n",
       "      <th>4</th>\n",
       "      <td>SKODA OCTAVIA</td>\n",
       "      <td>1.9</td>\n",
       "      <td>MANUAL</td>\n",
       "      <td>105</td>\n",
       "      <td>DIESEL</td>\n",
       "      <td>NaN</td>\n",
       "      <td>LEASEPLAN</td>\n",
       "      <td>3</td>\n",
       "      <td>NaN</td>\n",
       "      <td>10000.0</td>\n",
       "      <td>10000.0</td>\n",
       "      <td>12600</td>\n",
       "      <td>2600.0</td>\n",
       "      <td>92481</td>\n",
       "      <td>gra</td>\n",
       "      <td>si</td>\n",
       "      <td>2008</td>\n",
       "      <td>NaN</td>\n",
       "      <td>NaN</td>\n",
       "      <td>NaN</td>\n",
       "    </tr>\n",
       "  </tbody>\n",
       "</table>\n",
       "</div>"
      ],
      "text/plain": [
       "        MARCA MODELO  MOTOR  CAMBIO   CV COMBUSTIBLE COLOR   PROVEEDOR  YEARS  \\\n",
       "0     RENAULT MEGANE    1.6  MANUAL   75    GASOLINA   NaN     G.COSTA     10   \n",
       "1          VOLVO S60    2.5  MANUAL  145    GASOLINA   NaN  PARTICULAR      7   \n",
       "2  VOLKSWAGEN PASSAT    1.9  MANUAL  130      DIESEL   NaN   LEASEPLAN      5   \n",
       "3        SEAT TOLEDO    1.9  MANUAL  110      DIESEL   NaN   LEASEPLAN      5   \n",
       "4      SKODA OCTAVIA    1.9  MANUAL  105      DIESEL   NaN   LEASEPLAN      3   \n",
       "\n",
       "   PLAZAS      PCC  PCOMPRA  PVENTA   BRUTO      KM tipo llantas  year  \\\n",
       "0     NaN    956.6    956.6    4500  3543.4  109988  med      si  2008   \n",
       "1     NaN   7900.0   7900.0   10500  2600.0  185390  gra      si  2008   \n",
       "2     NaN  11200.0  11200.0   15750  4550.0   73790  gra      si  2008   \n",
       "3     NaN   7300.0   7300.0    9900  2600.0   97257  gra      si  2008   \n",
       "4     NaN  10000.0  10000.0   12600  2600.0   92481  gra      si  2008   \n",
       "\n",
       "   CTE..PREPARACIÓN  MESES GARANTIA2  \n",
       "0               NaN    NaN       NaN  \n",
       "1               NaN    NaN       NaN  \n",
       "2               NaN    NaN       NaN  \n",
       "3               NaN    NaN       NaN  \n",
       "4               NaN    NaN       NaN  "
      ]
     },
     "execution_count": 66,
     "metadata": {},
     "output_type": "execute_result"
    }
   ],
   "source": [
    "#Feature after One Hot Encoding\n",
    "df.head()"
   ]
  },
  {
   "cell_type": "code",
   "execution_count": 67,
   "metadata": {},
   "outputs": [
    {
     "data": {
      "text/html": [
       "<div>\n",
       "<style scoped>\n",
       "    .dataframe tbody tr th:only-of-type {\n",
       "        vertical-align: middle;\n",
       "    }\n",
       "\n",
       "    .dataframe tbody tr th {\n",
       "        vertical-align: top;\n",
       "    }\n",
       "\n",
       "    .dataframe thead th {\n",
       "        text-align: right;\n",
       "    }\n",
       "</style>\n",
       "<table border=\"1\" class=\"dataframe\">\n",
       "  <thead>\n",
       "    <tr style=\"text-align: right;\">\n",
       "      <th></th>\n",
       "      <th>MARCA MODELO</th>\n",
       "      <th>MOTOR</th>\n",
       "      <th>CAMBIO</th>\n",
       "      <th>CV</th>\n",
       "      <th>COMBUSTIBLE</th>\n",
       "      <th>COLOR</th>\n",
       "      <th>PROVEEDOR</th>\n",
       "      <th>YEARS</th>\n",
       "      <th>PLAZAS</th>\n",
       "      <th>PCC</th>\n",
       "      <th>PCOMPRA</th>\n",
       "      <th>PVENTA</th>\n",
       "      <th>BRUTO</th>\n",
       "      <th>KM</th>\n",
       "      <th>tipo</th>\n",
       "      <th>llantas</th>\n",
       "      <th>year</th>\n",
       "      <th>CTE..PREPARACIÓN</th>\n",
       "      <th>MESES</th>\n",
       "      <th>GARANTIA2</th>\n",
       "    </tr>\n",
       "  </thead>\n",
       "  <tbody>\n",
       "    <tr>\n",
       "      <th>99</th>\n",
       "      <td>VOLKSWAGEN POLO</td>\n",
       "      <td>1.4</td>\n",
       "      <td>MANUAL</td>\n",
       "      <td>75</td>\n",
       "      <td>GASOLINA</td>\n",
       "      <td>NEGRO</td>\n",
       "      <td>MAVISA</td>\n",
       "      <td>12</td>\n",
       "      <td>5.0</td>\n",
       "      <td>1805.0</td>\n",
       "      <td>1805.0</td>\n",
       "      <td>4500</td>\n",
       "      <td>2695.0</td>\n",
       "      <td>91431</td>\n",
       "      <td>peq</td>\n",
       "      <td>si</td>\n",
       "      <td>2016</td>\n",
       "      <td>2089.46</td>\n",
       "      <td>2.0</td>\n",
       "      <td>si</td>\n",
       "    </tr>\n",
       "    <tr>\n",
       "      <th>100</th>\n",
       "      <td>OPEL INSIGNIA</td>\n",
       "      <td>2.0</td>\n",
       "      <td>MANUAL</td>\n",
       "      <td>130</td>\n",
       "      <td>DIESEL</td>\n",
       "      <td>BLANCO</td>\n",
       "      <td>ARVAL</td>\n",
       "      <td>4</td>\n",
       "      <td>5.0</td>\n",
       "      <td>10821.0</td>\n",
       "      <td>10821.0</td>\n",
       "      <td>13300</td>\n",
       "      <td>2479.0</td>\n",
       "      <td>74210</td>\n",
       "      <td>gra</td>\n",
       "      <td>si</td>\n",
       "      <td>2016</td>\n",
       "      <td>307.60</td>\n",
       "      <td>1.0</td>\n",
       "      <td>si</td>\n",
       "    </tr>\n",
       "    <tr>\n",
       "      <th>101</th>\n",
       "      <td>CITROEN C4</td>\n",
       "      <td>1.6</td>\n",
       "      <td>MANUAL</td>\n",
       "      <td>110</td>\n",
       "      <td>GASOLINA</td>\n",
       "      <td>GRIS</td>\n",
       "      <td>AUTO1</td>\n",
       "      <td>10</td>\n",
       "      <td>5.0</td>\n",
       "      <td>2250.0</td>\n",
       "      <td>2250.0</td>\n",
       "      <td>5300</td>\n",
       "      <td>3050.0</td>\n",
       "      <td>82294</td>\n",
       "      <td>med</td>\n",
       "      <td>no</td>\n",
       "      <td>2016</td>\n",
       "      <td>986.07</td>\n",
       "      <td>1.0</td>\n",
       "      <td>si</td>\n",
       "    </tr>\n",
       "    <tr>\n",
       "      <th>102</th>\n",
       "      <td>AUDI A4</td>\n",
       "      <td>1.9</td>\n",
       "      <td>MANUAL</td>\n",
       "      <td>130</td>\n",
       "      <td>DIESEL</td>\n",
       "      <td>PLATA</td>\n",
       "      <td>MUNDOMOVIL</td>\n",
       "      <td>12</td>\n",
       "      <td>5.0</td>\n",
       "      <td>4000.0</td>\n",
       "      <td>4000.0</td>\n",
       "      <td>7500</td>\n",
       "      <td>3500.0</td>\n",
       "      <td>184488</td>\n",
       "      <td>gra</td>\n",
       "      <td>si</td>\n",
       "      <td>2016</td>\n",
       "      <td>967.89</td>\n",
       "      <td>1.0</td>\n",
       "      <td>si</td>\n",
       "    </tr>\n",
       "    <tr>\n",
       "      <th>103</th>\n",
       "      <td>RENAULT TRAFIC</td>\n",
       "      <td>2.0</td>\n",
       "      <td>MANUAL</td>\n",
       "      <td>115</td>\n",
       "      <td>DIESEL</td>\n",
       "      <td>BLANCO</td>\n",
       "      <td>ARVAL</td>\n",
       "      <td>6</td>\n",
       "      <td>6.0</td>\n",
       "      <td>10900.0</td>\n",
       "      <td>10900.0</td>\n",
       "      <td>13700</td>\n",
       "      <td>2800.0</td>\n",
       "      <td>84172</td>\n",
       "      <td>fur</td>\n",
       "      <td>no</td>\n",
       "      <td>2016</td>\n",
       "      <td>821.60</td>\n",
       "      <td>1.0</td>\n",
       "      <td>si</td>\n",
       "    </tr>\n",
       "  </tbody>\n",
       "</table>\n",
       "</div>"
      ],
      "text/plain": [
       "        MARCA MODELO  MOTOR  CAMBIO   CV COMBUSTIBLE   COLOR   PROVEEDOR  \\\n",
       "99   VOLKSWAGEN POLO    1.4  MANUAL   75    GASOLINA   NEGRO      MAVISA   \n",
       "100    OPEL INSIGNIA    2.0  MANUAL  130      DIESEL  BLANCO       ARVAL   \n",
       "101       CITROEN C4    1.6  MANUAL  110    GASOLINA    GRIS       AUTO1   \n",
       "102          AUDI A4    1.9  MANUAL  130      DIESEL   PLATA  MUNDOMOVIL   \n",
       "103   RENAULT TRAFIC    2.0  MANUAL  115      DIESEL  BLANCO       ARVAL   \n",
       "\n",
       "     YEARS  PLAZAS      PCC  PCOMPRA  PVENTA   BRUTO      KM tipo llantas  \\\n",
       "99      12     5.0   1805.0   1805.0    4500  2695.0   91431  peq      si   \n",
       "100      4     5.0  10821.0  10821.0   13300  2479.0   74210  gra      si   \n",
       "101     10     5.0   2250.0   2250.0    5300  3050.0   82294  med      no   \n",
       "102     12     5.0   4000.0   4000.0    7500  3500.0  184488  gra      si   \n",
       "103      6     6.0  10900.0  10900.0   13700  2800.0   84172  fur      no   \n",
       "\n",
       "     year  CTE..PREPARACIÓN  MESES GARANTIA2  \n",
       "99   2016           2089.46    2.0        si  \n",
       "100  2016            307.60    1.0        si  \n",
       "101  2016            986.07    1.0        si  \n",
       "102  2016            967.89    1.0        si  \n",
       "103  2016            821.60    1.0        si  "
      ]
     },
     "execution_count": 67,
     "metadata": {},
     "output_type": "execute_result"
    }
   ],
   "source": [
    "df = df.dropna()\n",
    "df.head()"
   ]
  },
  {
   "cell_type": "code",
   "execution_count": 68,
   "metadata": {},
   "outputs": [
    {
     "data": {
      "text/plain": [
       "MARCA MODELO        0\n",
       "MOTOR               0\n",
       "CAMBIO              0\n",
       "CV                  0\n",
       "COMBUSTIBLE         0\n",
       "COLOR               0\n",
       "PROVEEDOR           0\n",
       "YEARS               0\n",
       "PLAZAS              0\n",
       "PCC                 0\n",
       "PCOMPRA             0\n",
       "PVENTA              0\n",
       "BRUTO               0\n",
       "KM                  0\n",
       "tipo                0\n",
       "llantas             0\n",
       "year                0\n",
       "CTE..PREPARACIÓN    0\n",
       "MESES               0\n",
       "GARANTIA2           0\n",
       "dtype: int64"
      ]
     },
     "execution_count": 68,
     "metadata": {},
     "output_type": "execute_result"
    }
   ],
   "source": [
    "df.isnull().sum()"
   ]
  },
  {
   "cell_type": "code",
   "execution_count": 69,
   "metadata": {},
   "outputs": [],
   "source": [
    "df = pd.DataFrame(df)\n",
    "\n",
    "df_columns = df.columns"
   ]
  },
  {
   "cell_type": "code",
   "execution_count": 70,
   "metadata": {},
   "outputs": [],
   "source": [
    "predictors = df[df_columns[df_columns != 'MESES']] # all columns except MESES \n",
    "target = df['MESES'] # MESES  column"
   ]
  },
  {
   "cell_type": "code",
   "execution_count": 71,
   "metadata": {},
   "outputs": [
    {
     "data": {
      "text/html": [
       "<div>\n",
       "<style scoped>\n",
       "    .dataframe tbody tr th:only-of-type {\n",
       "        vertical-align: middle;\n",
       "    }\n",
       "\n",
       "    .dataframe tbody tr th {\n",
       "        vertical-align: top;\n",
       "    }\n",
       "\n",
       "    .dataframe thead th {\n",
       "        text-align: right;\n",
       "    }\n",
       "</style>\n",
       "<table border=\"1\" class=\"dataframe\">\n",
       "  <thead>\n",
       "    <tr style=\"text-align: right;\">\n",
       "      <th></th>\n",
       "      <th>MARCA MODELO</th>\n",
       "      <th>MOTOR</th>\n",
       "      <th>CAMBIO</th>\n",
       "      <th>CV</th>\n",
       "      <th>COMBUSTIBLE</th>\n",
       "      <th>COLOR</th>\n",
       "      <th>PROVEEDOR</th>\n",
       "      <th>YEARS</th>\n",
       "      <th>PLAZAS</th>\n",
       "      <th>PCC</th>\n",
       "      <th>PCOMPRA</th>\n",
       "      <th>PVENTA</th>\n",
       "      <th>BRUTO</th>\n",
       "      <th>KM</th>\n",
       "      <th>tipo</th>\n",
       "      <th>llantas</th>\n",
       "      <th>year</th>\n",
       "      <th>CTE..PREPARACIÓN</th>\n",
       "      <th>GARANTIA2</th>\n",
       "    </tr>\n",
       "  </thead>\n",
       "  <tbody>\n",
       "    <tr>\n",
       "      <th>99</th>\n",
       "      <td>VOLKSWAGEN POLO</td>\n",
       "      <td>1.4</td>\n",
       "      <td>MANUAL</td>\n",
       "      <td>75</td>\n",
       "      <td>GASOLINA</td>\n",
       "      <td>NEGRO</td>\n",
       "      <td>MAVISA</td>\n",
       "      <td>12</td>\n",
       "      <td>5.0</td>\n",
       "      <td>1805.0</td>\n",
       "      <td>1805.0</td>\n",
       "      <td>4500</td>\n",
       "      <td>2695.0</td>\n",
       "      <td>91431</td>\n",
       "      <td>peq</td>\n",
       "      <td>si</td>\n",
       "      <td>2016</td>\n",
       "      <td>2089.46</td>\n",
       "      <td>si</td>\n",
       "    </tr>\n",
       "    <tr>\n",
       "      <th>100</th>\n",
       "      <td>OPEL INSIGNIA</td>\n",
       "      <td>2.0</td>\n",
       "      <td>MANUAL</td>\n",
       "      <td>130</td>\n",
       "      <td>DIESEL</td>\n",
       "      <td>BLANCO</td>\n",
       "      <td>ARVAL</td>\n",
       "      <td>4</td>\n",
       "      <td>5.0</td>\n",
       "      <td>10821.0</td>\n",
       "      <td>10821.0</td>\n",
       "      <td>13300</td>\n",
       "      <td>2479.0</td>\n",
       "      <td>74210</td>\n",
       "      <td>gra</td>\n",
       "      <td>si</td>\n",
       "      <td>2016</td>\n",
       "      <td>307.60</td>\n",
       "      <td>si</td>\n",
       "    </tr>\n",
       "    <tr>\n",
       "      <th>101</th>\n",
       "      <td>CITROEN C4</td>\n",
       "      <td>1.6</td>\n",
       "      <td>MANUAL</td>\n",
       "      <td>110</td>\n",
       "      <td>GASOLINA</td>\n",
       "      <td>GRIS</td>\n",
       "      <td>AUTO1</td>\n",
       "      <td>10</td>\n",
       "      <td>5.0</td>\n",
       "      <td>2250.0</td>\n",
       "      <td>2250.0</td>\n",
       "      <td>5300</td>\n",
       "      <td>3050.0</td>\n",
       "      <td>82294</td>\n",
       "      <td>med</td>\n",
       "      <td>no</td>\n",
       "      <td>2016</td>\n",
       "      <td>986.07</td>\n",
       "      <td>si</td>\n",
       "    </tr>\n",
       "    <tr>\n",
       "      <th>102</th>\n",
       "      <td>AUDI A4</td>\n",
       "      <td>1.9</td>\n",
       "      <td>MANUAL</td>\n",
       "      <td>130</td>\n",
       "      <td>DIESEL</td>\n",
       "      <td>PLATA</td>\n",
       "      <td>MUNDOMOVIL</td>\n",
       "      <td>12</td>\n",
       "      <td>5.0</td>\n",
       "      <td>4000.0</td>\n",
       "      <td>4000.0</td>\n",
       "      <td>7500</td>\n",
       "      <td>3500.0</td>\n",
       "      <td>184488</td>\n",
       "      <td>gra</td>\n",
       "      <td>si</td>\n",
       "      <td>2016</td>\n",
       "      <td>967.89</td>\n",
       "      <td>si</td>\n",
       "    </tr>\n",
       "    <tr>\n",
       "      <th>103</th>\n",
       "      <td>RENAULT TRAFIC</td>\n",
       "      <td>2.0</td>\n",
       "      <td>MANUAL</td>\n",
       "      <td>115</td>\n",
       "      <td>DIESEL</td>\n",
       "      <td>BLANCO</td>\n",
       "      <td>ARVAL</td>\n",
       "      <td>6</td>\n",
       "      <td>6.0</td>\n",
       "      <td>10900.0</td>\n",
       "      <td>10900.0</td>\n",
       "      <td>13700</td>\n",
       "      <td>2800.0</td>\n",
       "      <td>84172</td>\n",
       "      <td>fur</td>\n",
       "      <td>no</td>\n",
       "      <td>2016</td>\n",
       "      <td>821.60</td>\n",
       "      <td>si</td>\n",
       "    </tr>\n",
       "  </tbody>\n",
       "</table>\n",
       "</div>"
      ],
      "text/plain": [
       "        MARCA MODELO  MOTOR  CAMBIO   CV COMBUSTIBLE   COLOR   PROVEEDOR  \\\n",
       "99   VOLKSWAGEN POLO    1.4  MANUAL   75    GASOLINA   NEGRO      MAVISA   \n",
       "100    OPEL INSIGNIA    2.0  MANUAL  130      DIESEL  BLANCO       ARVAL   \n",
       "101       CITROEN C4    1.6  MANUAL  110    GASOLINA    GRIS       AUTO1   \n",
       "102          AUDI A4    1.9  MANUAL  130      DIESEL   PLATA  MUNDOMOVIL   \n",
       "103   RENAULT TRAFIC    2.0  MANUAL  115      DIESEL  BLANCO       ARVAL   \n",
       "\n",
       "     YEARS  PLAZAS      PCC  PCOMPRA  PVENTA   BRUTO      KM tipo llantas  \\\n",
       "99      12     5.0   1805.0   1805.0    4500  2695.0   91431  peq      si   \n",
       "100      4     5.0  10821.0  10821.0   13300  2479.0   74210  gra      si   \n",
       "101     10     5.0   2250.0   2250.0    5300  3050.0   82294  med      no   \n",
       "102     12     5.0   4000.0   4000.0    7500  3500.0  184488  gra      si   \n",
       "103      6     6.0  10900.0  10900.0   13700  2800.0   84172  fur      no   \n",
       "\n",
       "     year  CTE..PREPARACIÓN GARANTIA2  \n",
       "99   2016           2089.46        si  \n",
       "100  2016            307.60        si  \n",
       "101  2016            986.07        si  \n",
       "102  2016            967.89        si  \n",
       "103  2016            821.60        si  "
      ]
     },
     "execution_count": 71,
     "metadata": {},
     "output_type": "execute_result"
    }
   ],
   "source": [
    "predictors.head()"
   ]
  },
  {
   "cell_type": "code",
   "execution_count": 72,
   "metadata": {},
   "outputs": [
    {
     "data": {
      "text/plain": [
       "99     2.0\n",
       "100    1.0\n",
       "101    1.0\n",
       "102    1.0\n",
       "103    1.0\n",
       "Name: MESES, dtype: float64"
      ]
     },
     "execution_count": 72,
     "metadata": {},
     "output_type": "execute_result"
    }
   ],
   "source": [
    "target.head()"
   ]
  },
  {
   "cell_type": "code",
   "execution_count": 73,
   "metadata": {},
   "outputs": [],
   "source": [
    "predictors = pd.get_dummies(predictors, columns = [\"MARCA MODELO\"])\n",
    "predictors = pd.get_dummies(predictors, columns = [\"CAMBIO\"])\n",
    "predictors = pd.get_dummies(predictors, columns = [\"COMBUSTIBLE\"])\n",
    "predictors = pd.get_dummies(predictors, columns = [\"COLOR\"])\n",
    "predictors = pd.get_dummies(predictors, columns = [\"PROVEEDOR\"])\n",
    "predictors = pd.get_dummies(predictors, columns = [\"tipo\"])\n",
    "predictors = pd.get_dummies(predictors, columns = [\"llantas\"])\n",
    "predictors = pd.get_dummies(predictors, columns = [\"GARANTIA2\"])\n"
   ]
  },
  {
   "cell_type": "code",
   "execution_count": 74,
   "metadata": {},
   "outputs": [
    {
     "data": {
      "text/html": [
       "<div>\n",
       "<style scoped>\n",
       "    .dataframe tbody tr th:only-of-type {\n",
       "        vertical-align: middle;\n",
       "    }\n",
       "\n",
       "    .dataframe tbody tr th {\n",
       "        vertical-align: top;\n",
       "    }\n",
       "\n",
       "    .dataframe thead th {\n",
       "        text-align: right;\n",
       "    }\n",
       "</style>\n",
       "<table border=\"1\" class=\"dataframe\">\n",
       "  <thead>\n",
       "    <tr style=\"text-align: right;\">\n",
       "      <th></th>\n",
       "      <th>MOTOR</th>\n",
       "      <th>CV</th>\n",
       "      <th>YEARS</th>\n",
       "      <th>PLAZAS</th>\n",
       "      <th>PCC</th>\n",
       "      <th>PCOMPRA</th>\n",
       "      <th>PVENTA</th>\n",
       "      <th>BRUTO</th>\n",
       "      <th>KM</th>\n",
       "      <th>year</th>\n",
       "      <th>...</th>\n",
       "      <th>tipo_mon</th>\n",
       "      <th>tipo_monp</th>\n",
       "      <th>tipo_peq</th>\n",
       "      <th>tipo_pickup</th>\n",
       "      <th>tipo_sub</th>\n",
       "      <th>tipo_tt</th>\n",
       "      <th>llantas_no</th>\n",
       "      <th>llantas_si</th>\n",
       "      <th>GARANTIA2_no</th>\n",
       "      <th>GARANTIA2_si</th>\n",
       "    </tr>\n",
       "  </thead>\n",
       "  <tbody>\n",
       "    <tr>\n",
       "      <th>99</th>\n",
       "      <td>1.4</td>\n",
       "      <td>75</td>\n",
       "      <td>12</td>\n",
       "      <td>5.0</td>\n",
       "      <td>1805.0</td>\n",
       "      <td>1805.0</td>\n",
       "      <td>4500</td>\n",
       "      <td>2695.0</td>\n",
       "      <td>91431</td>\n",
       "      <td>2016</td>\n",
       "      <td>...</td>\n",
       "      <td>0</td>\n",
       "      <td>0</td>\n",
       "      <td>1</td>\n",
       "      <td>0</td>\n",
       "      <td>0</td>\n",
       "      <td>0</td>\n",
       "      <td>0</td>\n",
       "      <td>1</td>\n",
       "      <td>0</td>\n",
       "      <td>1</td>\n",
       "    </tr>\n",
       "    <tr>\n",
       "      <th>100</th>\n",
       "      <td>2.0</td>\n",
       "      <td>130</td>\n",
       "      <td>4</td>\n",
       "      <td>5.0</td>\n",
       "      <td>10821.0</td>\n",
       "      <td>10821.0</td>\n",
       "      <td>13300</td>\n",
       "      <td>2479.0</td>\n",
       "      <td>74210</td>\n",
       "      <td>2016</td>\n",
       "      <td>...</td>\n",
       "      <td>0</td>\n",
       "      <td>0</td>\n",
       "      <td>0</td>\n",
       "      <td>0</td>\n",
       "      <td>0</td>\n",
       "      <td>0</td>\n",
       "      <td>0</td>\n",
       "      <td>1</td>\n",
       "      <td>0</td>\n",
       "      <td>1</td>\n",
       "    </tr>\n",
       "    <tr>\n",
       "      <th>101</th>\n",
       "      <td>1.6</td>\n",
       "      <td>110</td>\n",
       "      <td>10</td>\n",
       "      <td>5.0</td>\n",
       "      <td>2250.0</td>\n",
       "      <td>2250.0</td>\n",
       "      <td>5300</td>\n",
       "      <td>3050.0</td>\n",
       "      <td>82294</td>\n",
       "      <td>2016</td>\n",
       "      <td>...</td>\n",
       "      <td>0</td>\n",
       "      <td>0</td>\n",
       "      <td>0</td>\n",
       "      <td>0</td>\n",
       "      <td>0</td>\n",
       "      <td>0</td>\n",
       "      <td>1</td>\n",
       "      <td>0</td>\n",
       "      <td>0</td>\n",
       "      <td>1</td>\n",
       "    </tr>\n",
       "    <tr>\n",
       "      <th>102</th>\n",
       "      <td>1.9</td>\n",
       "      <td>130</td>\n",
       "      <td>12</td>\n",
       "      <td>5.0</td>\n",
       "      <td>4000.0</td>\n",
       "      <td>4000.0</td>\n",
       "      <td>7500</td>\n",
       "      <td>3500.0</td>\n",
       "      <td>184488</td>\n",
       "      <td>2016</td>\n",
       "      <td>...</td>\n",
       "      <td>0</td>\n",
       "      <td>0</td>\n",
       "      <td>0</td>\n",
       "      <td>0</td>\n",
       "      <td>0</td>\n",
       "      <td>0</td>\n",
       "      <td>0</td>\n",
       "      <td>1</td>\n",
       "      <td>0</td>\n",
       "      <td>1</td>\n",
       "    </tr>\n",
       "    <tr>\n",
       "      <th>103</th>\n",
       "      <td>2.0</td>\n",
       "      <td>115</td>\n",
       "      <td>6</td>\n",
       "      <td>6.0</td>\n",
       "      <td>10900.0</td>\n",
       "      <td>10900.0</td>\n",
       "      <td>13700</td>\n",
       "      <td>2800.0</td>\n",
       "      <td>84172</td>\n",
       "      <td>2016</td>\n",
       "      <td>...</td>\n",
       "      <td>0</td>\n",
       "      <td>0</td>\n",
       "      <td>0</td>\n",
       "      <td>0</td>\n",
       "      <td>0</td>\n",
       "      <td>0</td>\n",
       "      <td>1</td>\n",
       "      <td>0</td>\n",
       "      <td>0</td>\n",
       "      <td>1</td>\n",
       "    </tr>\n",
       "  </tbody>\n",
       "</table>\n",
       "<p>5 rows × 144 columns</p>\n",
       "</div>"
      ],
      "text/plain": [
       "     MOTOR   CV  YEARS  PLAZAS      PCC  PCOMPRA  PVENTA   BRUTO      KM  \\\n",
       "99     1.4   75     12     5.0   1805.0   1805.0    4500  2695.0   91431   \n",
       "100    2.0  130      4     5.0  10821.0  10821.0   13300  2479.0   74210   \n",
       "101    1.6  110     10     5.0   2250.0   2250.0    5300  3050.0   82294   \n",
       "102    1.9  130     12     5.0   4000.0   4000.0    7500  3500.0  184488   \n",
       "103    2.0  115      6     6.0  10900.0  10900.0   13700  2800.0   84172   \n",
       "\n",
       "     year  ...  tipo_mon  tipo_monp  tipo_peq  tipo_pickup  tipo_sub  tipo_tt  \\\n",
       "99   2016  ...         0          0         1            0         0        0   \n",
       "100  2016  ...         0          0         0            0         0        0   \n",
       "101  2016  ...         0          0         0            0         0        0   \n",
       "102  2016  ...         0          0         0            0         0        0   \n",
       "103  2016  ...         0          0         0            0         0        0   \n",
       "\n",
       "     llantas_no  llantas_si  GARANTIA2_no  GARANTIA2_si  \n",
       "99            0           1             0             1  \n",
       "100           0           1             0             1  \n",
       "101           1           0             0             1  \n",
       "102           0           1             0             1  \n",
       "103           1           0             0             1  \n",
       "\n",
       "[5 rows x 144 columns]"
      ]
     },
     "execution_count": 74,
     "metadata": {},
     "output_type": "execute_result"
    }
   ],
   "source": [
    "#Feature selection\n",
    "#Lets defind feature sets, X:\n",
    "\n",
    "\n",
    "x = predictors\n",
    "\n",
    "x[0:5]"
   ]
  },
  {
   "cell_type": "code",
   "execution_count": 75,
   "metadata": {},
   "outputs": [
    {
     "data": {
      "text/plain": [
       "99     2.0\n",
       "100    1.0\n",
       "101    1.0\n",
       "102    1.0\n",
       "103    1.0\n",
       "Name: MESES, dtype: float64"
      ]
     },
     "execution_count": 75,
     "metadata": {},
     "output_type": "execute_result"
    }
   ],
   "source": [
    "\n",
    "#What are our lables?\n",
    "\n",
    "y = target\n",
    "y[0:5]"
   ]
  },
  {
   "cell_type": "code",
   "execution_count": 76,
   "metadata": {},
   "outputs": [],
   "source": [
    "#use train/test split to start to model\n",
    "#import libraries to use \n",
    "from sklearn.model_selection import train_test_split\n",
    "from sklearn.tree import DecisionTreeClassifier"
   ]
  },
  {
   "cell_type": "code",
   "execution_count": 77,
   "metadata": {},
   "outputs": [],
   "source": [
    "#use train test splot to split into training 80% and 20% for testing, with a random state of 3\n",
    "x_train, x_test, y_train, y_test = train_test_split(x, y, test_size=1, random_state=3)"
   ]
  },
  {
   "cell_type": "code",
   "execution_count": 78,
   "metadata": {},
   "outputs": [
    {
     "name": "stdout",
     "output_type": "stream",
     "text": [
      "train set:  (281, 144) (281,)\n",
      "test set:  (1, 144) (1,)\n"
     ]
    }
   ],
   "source": [
    "#print shape of train and test shape to check if both are correct\n",
    "print('train set: ',x_train.shape,y_train.shape)\n",
    "print('test set: ',x_test.shape,y_test.shape)"
   ]
  },
  {
   "cell_type": "code",
   "execution_count": 79,
   "metadata": {},
   "outputs": [],
   "source": [
    "#This model is going to predict the MESES type based on the car characteristics. This is categorized\n",
    "#as a classification machine learning technique.Different models will be used to evaluate the prediction \n",
    "#accuracy."
   ]
  },
  {
   "cell_type": "code",
   "execution_count": 80,
   "metadata": {},
   "outputs": [
    {
     "data": {
      "text/plain": [
       "DecisionTreeClassifier(ccp_alpha=0.0, class_weight=None, criterion='entropy',\n",
       "                       max_depth=4, max_features=None, max_leaf_nodes=None,\n",
       "                       min_impurity_decrease=0.0, min_impurity_split=None,\n",
       "                       min_samples_leaf=1, min_samples_split=2,\n",
       "                       min_weight_fraction_leaf=0.0, presort='deprecated',\n",
       "                       random_state=None, splitter='best')"
      ]
     },
     "execution_count": 80,
     "metadata": {},
     "output_type": "execute_result"
    }
   ],
   "source": [
    "#DECISION TREE MODEL\n",
    "#First, create an instance of the decision tree clasifier,\n",
    "treecomp= DecisionTreeClassifier(criterion=\"entropy\", max_depth = 4)\n",
    "treecomp"
   ]
  },
  {
   "cell_type": "code",
   "execution_count": 81,
   "metadata": {},
   "outputs": [
    {
     "data": {
      "text/plain": [
       "DecisionTreeClassifier(ccp_alpha=0.0, class_weight=None, criterion='entropy',\n",
       "                       max_depth=4, max_features=None, max_leaf_nodes=None,\n",
       "                       min_impurity_decrease=0.0, min_impurity_split=None,\n",
       "                       min_samples_leaf=1, min_samples_split=2,\n",
       "                       min_weight_fraction_leaf=0.0, presort='deprecated',\n",
       "                       random_state=None, splitter='best')"
      ]
     },
     "execution_count": 81,
     "metadata": {},
     "output_type": "execute_result"
    }
   ],
   "source": [
    "#fit the data with the training set\n",
    "treecomp.fit(x_train,y_train)"
   ]
  },
  {
   "cell_type": "code",
   "execution_count": 82,
   "metadata": {},
   "outputs": [],
   "source": [
    "x_test = pd.read_excel(r'C:\\Users\\djina\\OneDrive\\Documentos\\Data Science\\Becars\\predictorsbruto.xlsx')"
   ]
  },
  {
   "cell_type": "code",
   "execution_count": 83,
   "metadata": {},
   "outputs": [
    {
     "data": {
      "text/html": [
       "<div>\n",
       "<style scoped>\n",
       "    .dataframe tbody tr th:only-of-type {\n",
       "        vertical-align: middle;\n",
       "    }\n",
       "\n",
       "    .dataframe tbody tr th {\n",
       "        vertical-align: top;\n",
       "    }\n",
       "\n",
       "    .dataframe thead th {\n",
       "        text-align: right;\n",
       "    }\n",
       "</style>\n",
       "<table border=\"1\" class=\"dataframe\">\n",
       "  <thead>\n",
       "    <tr style=\"text-align: right;\">\n",
       "      <th></th>\n",
       "      <th>MOTOR</th>\n",
       "      <th>CV</th>\n",
       "      <th>YEARS</th>\n",
       "      <th>PLAZAS</th>\n",
       "      <th>PCC</th>\n",
       "      <th>PCOMPRA</th>\n",
       "      <th>PVENTA</th>\n",
       "      <th>BRUTO</th>\n",
       "      <th>KM</th>\n",
       "      <th>year</th>\n",
       "      <th>...</th>\n",
       "      <th>tipo_mon</th>\n",
       "      <th>tipo_monp</th>\n",
       "      <th>tipo_peq</th>\n",
       "      <th>tipo_pickup</th>\n",
       "      <th>tipo_sub</th>\n",
       "      <th>tipo_tt</th>\n",
       "      <th>llantas_no</th>\n",
       "      <th>llantas_si</th>\n",
       "      <th>GARANTIA2_no</th>\n",
       "      <th>GARANTIA2_si</th>\n",
       "    </tr>\n",
       "  </thead>\n",
       "  <tbody>\n",
       "    <tr>\n",
       "      <th>0</th>\n",
       "      <td>2</td>\n",
       "      <td>90</td>\n",
       "      <td>14</td>\n",
       "      <td>5</td>\n",
       "      <td>1500</td>\n",
       "      <td>1500</td>\n",
       "      <td>2900</td>\n",
       "      <td>1400</td>\n",
       "      <td>202069</td>\n",
       "      <td>2015</td>\n",
       "      <td>...</td>\n",
       "      <td>0</td>\n",
       "      <td>0</td>\n",
       "      <td>0</td>\n",
       "      <td>0</td>\n",
       "      <td>0</td>\n",
       "      <td>0</td>\n",
       "      <td>0</td>\n",
       "      <td>1</td>\n",
       "      <td>1</td>\n",
       "      <td>0</td>\n",
       "    </tr>\n",
       "  </tbody>\n",
       "</table>\n",
       "<p>1 rows × 144 columns</p>\n",
       "</div>"
      ],
      "text/plain": [
       "   MOTOR  CV  YEARS  PLAZAS   PCC  PCOMPRA  PVENTA  BRUTO      KM  year  ...  \\\n",
       "0      2  90     14       5  1500     1500    2900   1400  202069  2015  ...   \n",
       "\n",
       "   tipo_mon  tipo_monp  tipo_peq  tipo_pickup  tipo_sub  tipo_tt  llantas_no  \\\n",
       "0         0          0         0            0         0        0           0   \n",
       "\n",
       "   llantas_si  GARANTIA2_no  GARANTIA2_si  \n",
       "0           1             1             0  \n",
       "\n",
       "[1 rows x 144 columns]"
      ]
     },
     "execution_count": 83,
     "metadata": {},
     "output_type": "execute_result"
    }
   ],
   "source": [
    "#make some predctions on the test dataset\n",
    "predtree= treecomp.predict(x_test)\n",
    "x_test.head()"
   ]
  },
  {
   "cell_type": "code",
   "execution_count": 84,
   "metadata": {},
   "outputs": [
    {
     "name": "stdout",
     "output_type": "stream",
     "text": [
      "[2.]\n"
     ]
    }
   ],
   "source": [
    "#print the predction values and the y_test values to compare\n",
    "print(predtree[0:5])\n"
   ]
  },
  {
   "cell_type": "code",
   "execution_count": 99,
   "metadata": {},
   "outputs": [],
   "source": [
    "#K-NEAREST METHOD\n",
    "\n",
    "import itertools\n",
    "import numpy as np\n",
    "import matplotlib.pyplot as plt\n",
    "from matplotlib.ticker import NullFormatter\n",
    "import pandas as pd\n",
    "import numpy as np\n",
    "import matplotlib.ticker as ticker\n",
    "from sklearn import preprocessing\n",
    "%matplotlib inline\n"
   ]
  },
  {
   "cell_type": "code",
   "execution_count": 100,
   "metadata": {},
   "outputs": [],
   "source": [
    "x = pd.read_excel(r'C:\\Users\\djina\\OneDrive\\Documentos\\Data Science\\Becars\\predictors2bruto.xlsx')"
   ]
  },
  {
   "cell_type": "code",
   "execution_count": 101,
   "metadata": {},
   "outputs": [],
   "source": [
    "x = preprocessing.StandardScaler().fit(x).transform(x.astype(float))"
   ]
  },
  {
   "cell_type": "code",
   "execution_count": 102,
   "metadata": {},
   "outputs": [
    {
     "name": "stdout",
     "output_type": "stream",
     "text": [
      "Train set: (281, 144) (281,)\n",
      "Test set: (1, 144) (1,)\n"
     ]
    }
   ],
   "source": [
    "from sklearn.model_selection import train_test_split\n",
    "X_train, X_test, y_train, y_test = train_test_split( x, y, test_size=1, random_state=3)\n",
    "print ('Train set:', X_train.shape,  y_train.shape)\n",
    "print ('Test set:', X_test.shape,  y_test.shape)"
   ]
  },
  {
   "cell_type": "code",
   "execution_count": 103,
   "metadata": {},
   "outputs": [],
   "source": [
    "\n",
    "#Classification\n",
    "#K nearest neighbor (KNN)\n",
    "#Import library\n",
    "#Classifier implementing the k-nearest neighbors vote.\n",
    "\n",
    "from sklearn.neighbors import KNeighborsClassifier\n",
    "from sklearn.neighbors import KNeighborsClassifier\n",
    "\n",
    "\n"
   ]
  },
  {
   "cell_type": "code",
   "execution_count": 104,
   "metadata": {
    "scrolled": true
   },
   "outputs": [
    {
     "data": {
      "text/plain": [
       "array([[ 0.93805631, -0.78175056,  1.72140608, -0.26863248, -1.24157475,\n",
       "        -1.16009238, -1.64065949, -1.50291339,  2.21982993, -1.07510436,\n",
       "        -1.50313135, -0.17087153, -0.08451543, -0.10369517, -0.059655  ,\n",
       "        -0.059655  , -0.10369517, -0.21081851, -0.10369517, -0.059655  ,\n",
       "        -0.1343523 , -0.059655  , -0.08451543, -0.059655  , -0.059655  ,\n",
       "        -0.059655  , -0.059655  , -0.08451543, -0.1343523 , -0.21983434,\n",
       "        -0.059655  , -0.059655  , -0.059655  , -0.11995203, -0.059655  ,\n",
       "        -0.059655  , -0.059655  , -0.08451543, -0.059655  , -0.059655  ,\n",
       "        -0.08451543, -0.059655  , -0.059655  , -0.059655  , -0.11995203,\n",
       "        -0.059655  , -0.15954481, -0.059655  , -0.31868872, -0.08451543,\n",
       "        -0.11995203, -0.26111648, -0.18156826, -0.059655  , -0.10369517,\n",
       "        -0.20147061, -0.08451543, -0.059655  , 16.76305461, -0.08451543,\n",
       "        -0.059655  , -0.059655  , -0.059655  , -0.14744196, -0.059655  ,\n",
       "        -0.08451543, -0.10369517, -0.10369517, -0.1343523 , -0.21081851,\n",
       "        -0.08451543, -0.059655  , -0.08451543, -0.2285581 , -0.11995203,\n",
       "        -0.059655  , -0.08451543, -0.059655  , -0.059655  , -0.059655  ,\n",
       "        -0.10369517, -0.1343523 , -0.10369517, -0.11995203, -0.17087153,\n",
       "        -0.1343523 , -0.17087153, -0.10369517, -0.059655  , -0.23702273,\n",
       "         0.23702273,  0.95152793, -0.90518221, -0.059655  , -0.14744196,\n",
       "        -0.33856241, -0.1343523 , -0.40061681, -0.08451543, -0.059655  ,\n",
       "        -0.14744196,  1.61721508, -0.08451543, -0.50885024, -0.059655  ,\n",
       "        -0.35143417, -0.31868872, -0.10369517, -0.059655  , -0.17087153,\n",
       "        -0.10369517, -0.059655  , -0.17087153, -0.059655  , -0.08451543,\n",
       "        -0.74124932, -0.059655  , -0.10369517, -0.08451543, -0.08451543,\n",
       "        -0.08451543, -0.059655  , -0.08451543, -0.19174125, -0.31189143,\n",
       "        -0.43574467, -0.26111648, -0.11995203,  2.45967478, -0.059655  ,\n",
       "        -0.10369517, -0.18156826,  2.18061965, -0.60739776, -0.46987149,\n",
       "        -0.08451543, -0.6128701 , -0.059655  , -0.21081851, -0.1343523 ,\n",
       "        -0.45291081,  0.45291081,  2.84548312, -2.84548312]])"
      ]
     },
     "execution_count": 104,
     "metadata": {},
     "output_type": "execute_result"
    }
   ],
   "source": [
    "X_test[0:5]"
   ]
  },
  {
   "cell_type": "code",
   "execution_count": 105,
   "metadata": {},
   "outputs": [
    {
     "data": {
      "text/plain": [
       "KNeighborsClassifier(algorithm='auto', leaf_size=30, metric='minkowski',\n",
       "                     metric_params=None, n_jobs=None, n_neighbors=3, p=2,\n",
       "                     weights='uniform')"
      ]
     },
     "execution_count": 105,
     "metadata": {},
     "output_type": "execute_result"
    }
   ],
   "source": [
    "#Training\n",
    "#Lets start the algorithm with k=3 for now:\n",
    "\n",
    "k = 3\n",
    "#Train Model and Predict  \n",
    "neigh = KNeighborsClassifier(n_neighbors = k).fit(X_train,y_train)\n",
    "neigh\n"
   ]
  },
  {
   "cell_type": "code",
   "execution_count": 106,
   "metadata": {},
   "outputs": [
    {
     "data": {
      "text/plain": [
       "array([2.])"
      ]
     },
     "execution_count": 106,
     "metadata": {},
     "output_type": "execute_result"
    }
   ],
   "source": [
    "yhatk3 = neigh.predict(X_test)\n",
    "yhatk3[0:5]"
   ]
  },
  {
   "cell_type": "code",
   "execution_count": 107,
   "metadata": {},
   "outputs": [
    {
     "name": "stdout",
     "output_type": "stream",
     "text": [
      "Train set Accuracy:  0.7651245551601423\n",
      "Test set Accuracy:  1.0\n"
     ]
    }
   ],
   "source": [
    "from sklearn import metrics\n",
    "print(\"Train set Accuracy: \", metrics.accuracy_score(y_train, neigh.predict(X_train)))\n",
    "print(\"Test set Accuracy: \", metrics.accuracy_score(y_test, yhatk3))"
   ]
  },
  {
   "cell_type": "code",
   "execution_count": 108,
   "metadata": {},
   "outputs": [
    {
     "data": {
      "text/plain": [
       "KNeighborsClassifier(algorithm='auto', leaf_size=30, metric='minkowski',\n",
       "                     metric_params=None, n_jobs=None, n_neighbors=7, p=2,\n",
       "                     weights='uniform')"
      ]
     },
     "execution_count": 108,
     "metadata": {},
     "output_type": "execute_result"
    }
   ],
   "source": [
    "#Training\n",
    "#Lets start the algorithm with k=7 for now:\n",
    "\n",
    "k = 7\n",
    "#Train Model and Predict  \n",
    "neigh = KNeighborsClassifier(n_neighbors = k).fit(X_train,y_train)\n",
    "neigh"
   ]
  },
  {
   "cell_type": "code",
   "execution_count": 109,
   "metadata": {},
   "outputs": [
    {
     "data": {
      "text/plain": [
       "array([2.])"
      ]
     },
     "execution_count": 109,
     "metadata": {},
     "output_type": "execute_result"
    }
   ],
   "source": [
    "yhatk7 = neigh.predict(X_test)\n",
    "yhatk7[0:5]"
   ]
  },
  {
   "cell_type": "code",
   "execution_count": 110,
   "metadata": {},
   "outputs": [
    {
     "name": "stdout",
     "output_type": "stream",
     "text": [
      "Train set Accuracy:  0.7046263345195729\n",
      "Test set Accuracy:  1.0\n"
     ]
    }
   ],
   "source": [
    "from sklearn import metrics\n",
    "print(\"Train set Accuracy: \", metrics.accuracy_score(y_train, neigh.predict(X_train)))\n",
    "print(\"Test set Accuracy: \", metrics.accuracy_score(y_test, yhatk7))"
   ]
  },
  {
   "cell_type": "code",
   "execution_count": 111,
   "metadata": {},
   "outputs": [
    {
     "data": {
      "text/plain": [
       "KNeighborsClassifier(algorithm='auto', leaf_size=30, metric='minkowski',\n",
       "                     metric_params=None, n_jobs=None, n_neighbors=1, p=2,\n",
       "                     weights='uniform')"
      ]
     },
     "execution_count": 111,
     "metadata": {},
     "output_type": "execute_result"
    }
   ],
   "source": [
    "#Training\n",
    "#Lets start the algorithm with k=15 for now:\n",
    "\n",
    "k = 1\n",
    "#Train Model and Predict  \n",
    "neigh = KNeighborsClassifier(n_neighbors = k).fit(X_train,y_train)\n",
    "neigh"
   ]
  },
  {
   "cell_type": "code",
   "execution_count": 112,
   "metadata": {},
   "outputs": [
    {
     "data": {
      "text/plain": [
       "array([2.])"
      ]
     },
     "execution_count": 112,
     "metadata": {},
     "output_type": "execute_result"
    }
   ],
   "source": [
    "yhatk15 = neigh.predict(X_test)\n",
    "yhatk15[0:5]"
   ]
  },
  {
   "cell_type": "code",
   "execution_count": 113,
   "metadata": {},
   "outputs": [
    {
     "name": "stdout",
     "output_type": "stream",
     "text": [
      "[2.] [2.] [2.] [2.]\n"
     ]
    }
   ],
   "source": [
    "print(predtree[0:5],yhatk3[0:5],yhatk7[0:5],yhatk15[0:5])"
   ]
  },
  {
   "cell_type": "code",
   "execution_count": null,
   "metadata": {},
   "outputs": [],
   "source": []
  },
  {
   "cell_type": "code",
   "execution_count": null,
   "metadata": {},
   "outputs": [],
   "source": []
  }
 ],
 "metadata": {
  "kernelspec": {
   "display_name": "Python 3",
   "language": "python",
   "name": "python3"
  },
  "language_info": {
   "codemirror_mode": {
    "name": "ipython",
    "version": 3
   },
   "file_extension": ".py",
   "mimetype": "text/x-python",
   "name": "python",
   "nbconvert_exporter": "python",
   "pygments_lexer": "ipython3",
   "version": "3.7.6"
  }
 },
 "nbformat": 4,
 "nbformat_minor": 4
}
